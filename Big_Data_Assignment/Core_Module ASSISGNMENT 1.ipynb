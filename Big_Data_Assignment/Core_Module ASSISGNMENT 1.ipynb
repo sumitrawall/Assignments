{
 "cells": [
  {
   "cell_type": "code",
   "execution_count": null,
   "id": "66f8be29",
   "metadata": {},
   "outputs": [],
   "source": [
    "#Write a Python program to check if a given string is an anagram."
   ]
  },
  {
   "cell_type": "code",
   "execution_count": 2,
   "id": "d6eb3837",
   "metadata": {},
   "outputs": [
    {
     "name": "stdout",
     "output_type": "stream",
     "text": [
      "Enter the first string: listen\n",
      "Enter the second string: silent\n",
      "The strings are anagrams.\n"
     ]
    }
   ],
   "source": [
    "def is_anagram(string1, string2):\n",
    "    # Remove spaces and convert to lowercase\n",
    "    string1 = string1.replace(\" \", \"\").lower()\n",
    "    string2 = string2.replace(\" \", \"\").lower()\n",
    "\n",
    "    # Check if the lengths are different\n",
    "    if len(string1) != len(string2):\n",
    "        return False\n",
    "\n",
    "    # Create dictionaries to count the characters\n",
    "    count1 = {}\n",
    "    count2 = {}\n",
    "\n",
    "    # Count characters in string1\n",
    "    for char in string1:\n",
    "        count1[char] = count1.get(char, 0) + 1\n",
    "\n",
    "    # Count characters in string2\n",
    "    for char in string2:\n",
    "        count2[char] = count2.get(char, 0) + 1\n",
    "\n",
    "    # Compare the character counts\n",
    "    return count1 == count2\n",
    "\n",
    "# Test the function\n",
    "string1 = input(\"Enter the first string: \")\n",
    "string2 = input(\"Enter the second string: \")\n",
    "\n",
    "if is_anagram(string1, string2):\n",
    "    print(\"The strings are anagrams.\")\n",
    "else:\n",
    "    print(\"The strings are not anagrams.\")"
   ]
  },
  {
   "cell_type": "code",
   "execution_count": null,
   "id": "e082f4b4",
   "metadata": {},
   "outputs": [],
   "source": [
    "#Write a Python program to find the maximum and minimum values in a\n",
    "dictionary."
   ]
  },
  {
   "cell_type": "code",
   "execution_count": null,
   "id": "f3b43b26",
   "metadata": {},
   "outputs": [],
   "source": [
    "def find_max_min(dictionary):\n",
    "    if not dictionary:  # Check if the dictionary is empty\n",
    "        return None, None\n",
    "\n",
    "    values = list(dictionary.values())\n",
    "    max_value = max(values)\n",
    "    min_value = min(values)\n",
    "\n",
    "    return max_value, min_value\n",
    "\n",
    "# Test the function\n",
    "my_dict = {'a': 10, 'b': 5, 'c': 15, 'd': 2}\n",
    "max_val, min_val = find_max_min(my_dict)\n",
    "\n",
    "if max_val is not None and min_val is not None:\n",
    "    print(\"Maximum value:\", max_val)\n",
    "    print(\"Minimum value:\", min_val)\n",
    "else:\n",
    "    print(\"The dictionary is empty.\")\n"
   ]
  },
  {
   "cell_type": "code",
   "execution_count": null,
   "id": "004004f2",
   "metadata": {},
   "outputs": [],
   "source": [
    "#Write a Python program to find the average of a list of numbers."
   ]
  },
  {
   "cell_type": "code",
   "execution_count": null,
   "id": "962c8cc9",
   "metadata": {},
   "outputs": [],
   "source": [
    "def calculate_average(numbers):\n",
    "    if not numbers:  # Check if the list is empty\n",
    "        return None\n",
    "\n",
    "    total = sum(numbers)\n",
    "    average = total / len(numbers)\n",
    "\n",
    "    return average\n",
    "\n",
    "# Test the function\n",
    "numbers = [4, 7, 9, 2, 6]\n",
    "avg = calculate_average(numbers)\n",
    "\n",
    "if avg is not None:\n",
    "    print(\"Average:\", avg)\n",
    "else:\n",
    "    print(\"The list is empty.\")\n"
   ]
  },
  {
   "cell_type": "code",
   "execution_count": null,
   "id": "d17ed1bd",
   "metadata": {},
   "outputs": [],
   "source": [
    "#Write a Python program to remove all vowels from a string."
   ]
  },
  {
   "cell_type": "code",
   "execution_count": null,
   "id": "d09a90c1",
   "metadata": {},
   "outputs": [],
   "source": [
    "def remove_vowels(string):\n",
    "    vowels = \"aeiouAEIOU\"\n",
    "    return ''.join(char for char in string if char not in vowels)\n",
    "\n",
    "# Test the function\n",
    "input_string = input(\"Enter a string: \")\n",
    "result = remove_vowels(input_string)\n",
    "\n",
    "print(\"String without vowels:\", result)\n"
   ]
  },
  {
   "cell_type": "code",
   "execution_count": null,
   "id": "9a5d3a67",
   "metadata": {},
   "outputs": [],
   "source": [
    "#Write a Python function to calculate the factorial of a number using recursion."
   ]
  },
  {
   "cell_type": "code",
   "execution_count": null,
   "id": "92a45f73",
   "metadata": {},
   "outputs": [],
   "source": [
    "def factorial_recursive(n):\n",
    "    if n == 0:\n",
    "        return 1\n",
    "    else:\n",
    "        return n * factorial_recursive(n - 1)\n",
    "\n",
    "# Test the function\n",
    "number = int(input(\"Enter a number: \"))\n",
    "\n",
    "if number < 0:\n",
    "    print(\"Factorial is not defined for negative numbers.\")\n",
    "else:\n",
    "    result = factorial_recursive(number)\n",
    "    print(\"Factorial:\", result)\n"
   ]
  },
  {
   "cell_type": "code",
   "execution_count": null,
   "id": "dbabc476",
   "metadata": {},
   "outputs": [],
   "source": [
    "#Write a Python program to merge two unsorted lists into a single sorted list\n",
    "##using the merge sort algorithm."
   ]
  },
  {
   "cell_type": "code",
   "execution_count": null,
   "id": "e0506df3",
   "metadata": {},
   "outputs": [],
   "source": [
    "def merge_sort_merge(left, right):\n",
    "    merged = []\n",
    "    i = j = 0\n",
    "\n",
    "    while i < len(left) and j < len(right):\n",
    "        if left[i] < right[j]:\n",
    "            merged.append(left[i])\n",
    "            i += 1\n",
    "        else:\n",
    "            merged.append(right[j])\n",
    "            j += 1\n",
    "\n",
    "    merged.extend(left[i:])\n",
    "    merged.extend(right[j:])\n",
    "\n",
    "    return merged\n",
    "\n",
    "\n",
    "def merge_sort(arr):\n",
    "    if len(arr) <= 1:\n",
    "        return arr\n",
    "\n",
    "    mid = len(arr) // 2\n",
    "    left = arr[:mid]\n",
    "    right = arr[mid:]\n",
    "\n",
    "    left = merge_sort(left)\n",
    "    right = merge_sort(right)\n",
    "\n",
    "    return merge_sort_merge(left, right)\n",
    "\n",
    "\n",
    "# Test the program\n",
    "list1 = [5, 8, 1, 3, 9]\n",
    "list2 = [2, 7, 4, 6]\n",
    "\n",
    "merged_list = merge_sort(list1 + list2)\n",
    "print(\"Merged and sorted list:\", merged_list)\n"
   ]
  },
  {
   "cell_type": "code",
   "execution_count": null,
   "id": "67ab6a4b",
   "metadata": {},
   "outputs": [],
   "source": [
    "##Write a Python program to find the GCD (Greatest Common Divisor) of two\n",
    "#numbers."
   ]
  },
  {
   "cell_type": "code",
   "execution_count": null,
   "id": "4f776f67",
   "metadata": {},
   "outputs": [],
   "source": [
    "def gcd(a, b):\n",
    "    while b != 0:\n",
    "        a, b = b, a % b\n",
    "    return a\n",
    "\n",
    "# Test the program\n",
    "num1 = int(input(\"Enter the first number: \"))\n",
    "num2 = int(input(\"Enter the second number: \"))\n",
    "\n",
    "result = gcd(num1, num2)\n",
    "print(\"GCD:\", result)\n"
   ]
  },
  {
   "cell_type": "code",
   "execution_count": null,
   "id": "f60cef40",
   "metadata": {},
   "outputs": [],
   "source": [
    "#Write a Python program to find the second-largest element in a list."
   ]
  },
  {
   "cell_type": "code",
   "execution_count": null,
   "id": "4a804553",
   "metadata": {},
   "outputs": [],
   "source": [
    "def find_second_largest(numbers):\n",
    "    if len(numbers) < 2:\n",
    "        return None\n",
    "\n",
    "    largest = second_largest = float('-inf')\n",
    "\n",
    "    for num in numbers:\n",
    "        if num > largest:\n",
    "            second_largest = largest\n",
    "            largest = num\n",
    "        elif num > second_largest and num != largest:\n",
    "            second_largest = num\n",
    "\n",
    "    if second_largest == float('-inf'):\n",
    "        return None\n",
    "    else:\n",
    "        return second_largest\n",
    "\n",
    "# Test the program\n",
    "number_list = [10, 5, 7, 3, 9, 12, 8]\n",
    "second_largest = find_second_largest(number_list)\n",
    "\n",
    "if second_largest is not None:\n",
    "    print(\"Second largest element:\", second_largest)\n",
    "else:\n",
    "    print(\"There is no second largest element.\")\n"
   ]
  },
  {
   "cell_type": "code",
   "execution_count": null,
   "id": "e2d163d4",
   "metadata": {},
   "outputs": [],
   "source": [
    "#Write a Python program to find the longest common subsequence between two\n",
    "#strings using dynamic programming."
   ]
  },
  {
   "cell_type": "code",
   "execution_count": null,
   "id": "36599fa2",
   "metadata": {},
   "outputs": [],
   "source": [
    "def find_lcs(string1, string2):\n",
    "    m = len(string1)\n",
    "    n = len(string2)\n",
    "\n",
    "    # Create a matrix to store the lengths of LCS\n",
    "    lcs_matrix = [[0] * (n + 1) for _ in range(m + 1)]\n",
    "\n",
    "    # Fill the matrix using dynamic programming\n",
    "    for i in range(1, m + 1):\n",
    "        for j in range(1, n + 1):\n",
    "            if string1[i - 1] == string2[j - 1]:\n",
    "                lcs_matrix[i][j] = lcs_matrix[i - 1][j - 1] + 1\n",
    "            else:\n",
    "                lcs_matrix[i][j] = max(lcs_matrix[i - 1][j], lcs_matrix[i][j - 1])\n",
    "\n",
    "    # Find the LCS by tracing back the matrix\n",
    "    lcs = ''\n",
    "    i, j = m, n\n",
    "    while i > 0 and j > 0:\n",
    "        if string1[i - 1] == string2[j - 1]:\n",
    "            lcs = string1[i - 1] + lcs\n",
    "            i -= 1\n",
    "            j -= 1\n",
    "        elif lcs_matrix[i - 1][j] > lcs_matrix[i][j - 1]:\n",
    "            i -= 1\n",
    "        else:\n",
    "            j -= 1\n",
    "\n",
    "    return lcs\n",
    "\n",
    "\n",
    "# Test the program\n",
    "string1 = input(\"Enter the first string: \")\n",
    "string2 = input(\"Enter the second string: \")\n",
    "\n",
    "lcs = find_lcs(string1, string2)\n",
    "\n",
    "print(\"Longest Common Subsequence:\", lcs)\n"
   ]
  }
 ],
 "metadata": {
  "kernelspec": {
   "display_name": "Python 3 (ipykernel)",
   "language": "python",
   "name": "python3"
  },
  "language_info": {
   "codemirror_mode": {
    "name": "ipython",
    "version": 3
   },
   "file_extension": ".py",
   "mimetype": "text/x-python",
   "name": "python",
   "nbconvert_exporter": "python",
   "pygments_lexer": "ipython3",
   "version": "3.11.0"
  }
 },
 "nbformat": 4,
 "nbformat_minor": 5
}
