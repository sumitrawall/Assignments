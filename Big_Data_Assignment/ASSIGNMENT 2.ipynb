{
 "cells": [
  {
   "cell_type": "code",
   "execution_count": null,
   "id": "78542ff7",
   "metadata": {},
   "outputs": [],
   "source": [
    "#Write an SQL query to retrieve the names and email addresses of all employees from a table named \"Employees\"."
   ]
  },
  {
   "cell_type": "code",
   "execution_count": null,
   "id": "0629cd25",
   "metadata": {},
   "outputs": [],
   "source": [
    "SELECT name, email\n",
    "FROM Employees;"
   ]
  },
  {
   "cell_type": "code",
   "execution_count": null,
   "id": "3334b974",
   "metadata": {},
   "outputs": [],
   "source": [
    "#Write an SQL query to filter records from a table named \"Customers\" where the \"City\" column is 'New York'."
   ]
  },
  {
   "cell_type": "code",
   "execution_count": null,
   "id": "837f678d",
   "metadata": {},
   "outputs": [],
   "source": [
    "SELECT *\n",
    "FROM Customers\n",
    "WHERE City = 'New York';"
   ]
  },
  {
   "cell_type": "code",
   "execution_count": null,
   "id": "e3a817ca",
   "metadata": {},
   "outputs": [],
   "source": [
    "#Write an SQL query to sort records in descending order based on the \"DateOfBirth\" column in a table named \"Users\"."
   ]
  },
  {
   "cell_type": "code",
   "execution_count": null,
   "id": "b45a41d6",
   "metadata": {},
   "outputs": [],
   "source": [
    "SELECT *\n",
    "FROM Users\n",
    "ORDER BY DateOfBirth DESC;"
   ]
  },
  {
   "cell_type": "code",
   "execution_count": null,
   "id": "870ede3f",
   "metadata": {},
   "outputs": [],
   "source": [
    "#Write an SQL query to sort records in ascending order based on the \"RegistrationDate\" column in a table named \"Users\".\n"
   ]
  },
  {
   "cell_type": "code",
   "execution_count": null,
   "id": "6cc16476",
   "metadata": {},
   "outputs": [],
   "source": [
    "SELECT *\n",
    "FROM Users\n",
    "ORDER BY RegistrationDate ASC;"
   ]
  },
  {
   "cell_type": "code",
   "execution_count": null,
   "id": "7932d241",
   "metadata": {},
   "outputs": [],
   "source": [
    "#Write an SQL query to find the employee with the highest salary from a table named \"Employees\" and display their name, position, and salary."
   ]
  },
  {
   "cell_type": "code",
   "execution_count": null,
   "id": "ab808070",
   "metadata": {},
   "outputs": [],
   "source": [
    "SELECT name, position, salary\n",
    "FROM Employees\n",
    "WHERE salary = (\n",
    "    SELECT MAX(salary)\n",
    "    FROM Employees\n",
    ");\n"
   ]
  },
  {
   "cell_type": "code",
   "execution_count": null,
   "id": "e57935af",
   "metadata": {},
   "outputs": [],
   "source": [
    "#. Write an SQL query to retrieve records from a table named \"Customers\" where the \"Phone\" column matches the pattern '+1-XXX-XXX-XXXX'."
   ]
  },
  {
   "cell_type": "code",
   "execution_count": null,
   "id": "03fa6fc0",
   "metadata": {},
   "outputs": [],
   "source": [
    "SELECT *\n",
    "FROM Customers\n",
    "WHERE Phone LIKE '+1-___-___-____';\n"
   ]
  },
  {
   "cell_type": "code",
   "execution_count": null,
   "id": "06926f40",
   "metadata": {},
   "outputs": [],
   "source": [
    "#Write an SQL query to retrieve the top 5 customers with the highest total purchase amount from a table named \"Orders\" and display their names and total purchase amounts.\n"
   ]
  },
  {
   "cell_type": "code",
   "execution_count": null,
   "id": "f299b5d5",
   "metadata": {},
   "outputs": [],
   "source": [
    "SELECT CustomerName, SUM(PurchaseAmount) AS TotalPurchaseAmount\n",
    "FROM Orders\n",
    "GROUP BY CustomerName\n",
    "ORDER BY TotalPurchaseAmount DESC\n",
    "LIMIT 5;\n"
   ]
  },
  {
   "cell_type": "code",
   "execution_count": null,
   "id": "de0d8fd6",
   "metadata": {},
   "outputs": [],
   "source": [
    "#Write an SQL query to calculate the percentage of sales for each product category in a table named \"Sales\" and display the category name, total sales amount, and the percentage of total sales.\n"
   ]
  },
  {
   "cell_type": "code",
   "execution_count": null,
   "id": "fc48f687",
   "metadata": {},
   "outputs": [],
   "source": [
    "SELECT CategoryName, SUM(SalesAmount) AS TotalSalesAmount, \n",
    "    (SUM(SalesAmount) * 100.0 / (SELECT SUM(SalesAmount) FROM Sales)) AS PercentageOfTotalSales\n",
    "FROM Sales\n",
    "GROUP BY CategoryName;\n"
   ]
  },
  {
   "cell_type": "code",
   "execution_count": null,
   "id": "482c7551",
   "metadata": {},
   "outputs": [],
   "source": [
    "#Write an SQL query to find the customers who have made the highest total purchases across all years from a table named \"Orders\" and display their names, email addresses, and the total purchase amount.\n"
   ]
  },
  {
   "cell_type": "code",
   "execution_count": null,
   "id": "52d31a5d",
   "metadata": {},
   "outputs": [],
   "source": [
    "SELECT CustomerName, Email, SUM(PurchaseAmount) AS TotalPurchaseAmount\n",
    "FROM Orders\n",
    "GROUP BY CustomerName, Email\n",
    "HAVING SUM(PurchaseAmount) = (\n",
    "    SELECT MAX(TotalPurchase)\n",
    "    FROM (\n",
    "        SELECT SUM(PurchaseAmount) AS TotalPurchase\n",
    "        FROM Orders\n",
    "        GROUP BY CustomerName, Email\n",
    "    ) AS Subquery\n",
    ");\n"
   ]
  }
 ],
 "metadata": {
  "kernelspec": {
   "display_name": "Python 3 (ipykernel)",
   "language": "python",
   "name": "python3"
  },
  "language_info": {
   "codemirror_mode": {
    "name": "ipython",
    "version": 3
   },
   "file_extension": ".py",
   "mimetype": "text/x-python",
   "name": "python",
   "nbconvert_exporter": "python",
   "pygments_lexer": "ipython3",
   "version": "3.11.0"
  }
 },
 "nbformat": 4,
 "nbformat_minor": 5
}
